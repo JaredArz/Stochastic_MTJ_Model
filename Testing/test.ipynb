{
 "cells": [
  {
   "cell_type": "code",
   "execution_count": null,
   "metadata": {},
   "outputs": [],
   "source": [
    "import sys\n",
    "import numpy as np\n",
    "import pandas as pd\n",
    "import matplotlib.pyplot as plt\n",
    "from paretoset import paretoset\n",
    "from scipy import stats\n",
    "from scipy.special import rel_entr\n",
    "\n",
    "sys.path.append(\"../\")\n",
    "sys.path.append(\"../fortran_source\")\n",
    "from SOT_model import SOT_Model"
   ]
  },
  {
   "cell_type": "code",
   "execution_count": null,
   "metadata": {},
   "outputs": [],
   "source": [
    "SAMPLES = 100_000\n",
    "PDF_TYPE = \"gamma\"\n",
    "\n",
    "alpha = 0.01\n",
    "Ki = 0.0002\n",
    "Ms = 300000\n",
    "Rp = 13265.555784106255\n",
    "TMR = 0.3\n",
    "eta = 0.8\n",
    "J_she = 334994280934.3338\n",
    "t_pulse = 7.5e-08\n",
    "t_relax = 7.5e-08\n",
    "d = 3e-09\n",
    "tf = 1.1e-09"
   ]
  },
  {
   "cell_type": "code",
   "execution_count": null,
   "metadata": {},
   "outputs": [],
   "source": [
    "chi2, bitstream, energy_avg, countData, bitData, xxis, pdf = SOT_Model(alpha, Ki, Ms, Rp, TMR, d, tf, eta, J_she, t_pulse, t_relax, samples=SAMPLES, pdf_type=PDF_TYPE)\n",
    "kl_div_score = sum(rel_entr(countData, pdf))\n",
    "energy = np.mean(energy_avg)\n",
    "\n",
    "print(\"Chi2  :\", chi2)\n",
    "print(\"KL_Div:\", kl_div_score)\n",
    "print(\"Energy:\", energy)"
   ]
  },
  {
   "cell_type": "code",
   "execution_count": null,
   "metadata": {},
   "outputs": [],
   "source": [
    "plt.plot(xxis, countData, color=\"royalblue\", label=\"SOT PDF\")\n",
    "# plt.plot(xxis, counts, color=\"blueviolet\", label=\"STT PDF\")\n",
    "plt.plot(xxis, pdf, color=\"dimgray\", linestyle=\"dashed\", label=\"Expected PDF\")\n",
    "plt.xlabel(\"Generated Number\")\n",
    "plt.ylabel(\"Normalized\")\n",
    "plt.title(\"PDF Comparison\")\n",
    "plt.legend()\n",
    "plt.show()"
   ]
  },
  {
   "cell_type": "code",
   "execution_count": null,
   "metadata": {},
   "outputs": [],
   "source": [
    "bitData.sort()\n",
    "bitDict = {i:bitData.count(i) for i in bitData}\n",
    "\n",
    "plt.plot(bitDict.keys(), bitDict.values())\n",
    "plt.show()"
   ]
  },
  {
   "cell_type": "code",
   "execution_count": null,
   "metadata": {},
   "outputs": [],
   "source": [
    "x_axis = np.linspace(0.05, 0.3, len(bitDict.keys()))\n",
    "y_axis = [i/SAMPLES for i in list(bitDict.values())]\n",
    "\n",
    "plt.plot(x_axis, y_axis)\n",
    "plt.show()"
   ]
  },
  {
   "cell_type": "code",
   "execution_count": null,
   "metadata": {},
   "outputs": [],
   "source": [
    "xxis = np.linspace(0.05, 0.3, len(y_axis))\n",
    "pdf = stats.gamma.pdf(xxis, a=50, scale=1/311.44)\n",
    "pdf = pdf/np.sum(pdf)\n",
    "\n",
    "plt.plot(xxis, y_axis, color=\"red\", label=\"Actual PDF\")\n",
    "plt.plot(xxis, pdf,'k--', label=\"Expected PDF\")\n",
    "plt.xlabel(\"Generated Number\")\n",
    "plt.ylabel(\"Normalized\")\n",
    "plt.title(\"PDF Comparison\")\n",
    "plt.legend()\n",
    "plt.show()\n",
    "\n",
    "kl_div_score = sum(rel_entr(y_axis, pdf))\n",
    "print(kl_div_score)"
   ]
  },
  {
   "cell_type": "code",
   "execution_count": null,
   "metadata": {},
   "outputs": [],
   "source": []
  }
 ],
 "metadata": {
  "kernelspec": {
   "display_name": "Python 3",
   "language": "python",
   "name": "python3"
  },
  "language_info": {
   "codemirror_mode": {
    "name": "ipython",
    "version": 3
   },
   "file_extension": ".py",
   "mimetype": "text/x-python",
   "name": "python",
   "nbconvert_exporter": "python",
   "pygments_lexer": "ipython3",
   "version": "3.0.0"
  }
 },
 "nbformat": 4,
 "nbformat_minor": 2
}
